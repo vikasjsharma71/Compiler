{
 "cells": [
  {
   "cell_type": "code",
   "execution_count": 1,
   "id": "c8156db0-b7a8-4223-b6c0-6fb9fdf23cb5",
   "metadata": {},
   "outputs": [
    {
     "name": "stdout",
     "output_type": "stream",
     "text": [
      "input: 1--> rejected\n",
      "input: 101--> accepted\n",
      "input: 010101--> rejected\n",
      "input: 101101--> rejected\n"
     ]
    }
   ],
   "source": []
  },
  {
   "cell_type": "code",
   "execution_count": 4,
   "id": "7172bb58-6bf1-49b6-a012-aebeea668bf1",
   "metadata": {},
   "outputs": [
    {
     "name": "stdout",
     "output_type": "stream",
     "text": [
      "input: 1 --> Rejected\n",
      "input: 101 --> accepted\n",
      "input: 010101 --> rejected\n",
      "input: 101101 --> rejected\n"
     ]
    }
   ],
   "source": []
  },
  {
   "cell_type": "code",
   "execution_count": null,
   "id": "a8feaa7c-f3d4-4f1a-8d46-78ead2a8d425",
   "metadata": {},
   "outputs": [],
   "source": []
  },
  {
   "cell_type": "code",
   "execution_count": null,
   "id": "3af75b1c-ac41-4d75-a47f-dcf6ec43670f",
   "metadata": {},
   "outputs": [],
   "source": []
  },
  {
   "cell_type": "code",
   "execution_count": null,
   "id": "590b0dbb-1d3f-4422-973a-076c2cd5d7bf",
   "metadata": {},
   "outputs": [],
   "source": []
  },
  {
   "cell_type": "code",
   "execution_count": null,
   "id": "8b110a49-e509-4008-b1b5-a465105e1827",
   "metadata": {},
   "outputs": [],
   "source": []
  }
 ],
 "metadata": {
  "kernelspec": {
   "display_name": "Python 3 (ipykernel)",
   "language": "python",
   "name": "python3"
  },
  "language_info": {
   "codemirror_mode": {
    "name": "ipython",
    "version": 3
   },
   "file_extension": ".py",
   "mimetype": "text/x-python",
   "name": "python",
   "nbconvert_exporter": "python",
   "pygments_lexer": "ipython3",
   "version": "3.11.7"
  }
 },
 "nbformat": 4,
 "nbformat_minor": 5
}
